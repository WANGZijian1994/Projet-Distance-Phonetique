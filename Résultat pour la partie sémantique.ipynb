{
 "cells": [
  {
   "cell_type": "code",
   "execution_count": 11,
   "metadata": {},
   "outputs": [],
   "source": [
    "import xml.dom.minidom as xml\n",
    "from nltk.corpus import wordnet as wn\n",
    "import pprint\n",
    "from pprint import pprint"
   ]
  },
  {
   "cell_type": "code",
   "execution_count": 12,
   "metadata": {},
   "outputs": [],
   "source": [
    "xml_file = xml.parse(\"wolf 2.xml\")\n",
    "éléments = xml_file.documentElement"
   ]
  },
  {
   "cell_type": "code",
   "execution_count": 3,
   "metadata": {
    "scrolled": true
   },
   "outputs": [
    {
     "data": {
      "text/plain": [
       "xml.dom.minidom.Element"
      ]
     },
     "execution_count": 3,
     "metadata": {},
     "output_type": "execute_result"
    }
   ],
   "source": [
    "type(éléments)"
   ]
  },
  {
   "cell_type": "code",
   "execution_count": 4,
   "metadata": {},
   "outputs": [],
   "source": [
    "subElementObj = éléments.getElementsByTagName(\"ID\")"
   ]
  },
  {
   "cell_type": "code",
   "execution_count": 5,
   "metadata": {},
   "outputs": [],
   "source": [
    "ID_WordNet = []\n",
    "for i in subElementObj:\n",
    "    j = i.childNodes[0].data\n",
    "    ID_WordNet.append(j)   "
   ]
  },
  {
   "cell_type": "code",
   "execution_count": 6,
   "metadata": {
    "scrolled": true
   },
   "outputs": [
    {
     "name": "stdout",
     "output_type": "stream",
     "text": [
      "['eng-30-00001740-a', 'eng-30-00001740-b', 'eng-30-00001740-n']\n",
      "['00001740-a', '00001740-b', '00001740-n']\n"
     ]
    }
   ],
   "source": [
    "print(ID_WordNet[:3])\n",
    "ID_WordNet_Transférable = [i[7:] for i in ID_WordNet]\n",
    "print(ID_WordNet_Transférable[:3])"
   ]
  },
  {
   "cell_type": "code",
   "execution_count": 7,
   "metadata": {
    "scrolled": true
   },
   "outputs": [
    {
     "name": "stdout",
     "output_type": "stream",
     "text": [
      "['comptable',\n",
      " '_EMPTY_',\n",
      " 'entité',\n",
      " ['inspirer', 'respirer'],\n",
      " ['ap. J.-C.', 'ap. JC', 'apr. J.-C.', 'après JC', 'après Jésus-Christ'],\n",
      " '_EMPTY_',\n",
      " '_EMPTY_',\n",
      " 'incapable',\n",
      " 'abstraction',\n",
      " 'av. J.-C.',\n",
      " '_EMPTY_',\n",
      " 'abaxial',\n",
      " '_EMPTY_',\n",
      " 'à cheval',\n",
      " ['cause', 'chose', 'objet'],\n",
      " 'ventral',\n",
      " '_EMPTY_',\n",
      " ['guère', 'à peine'],\n",
      " ['chose', 'objet'],\n",
      " '_EMPTY_']\n"
     ]
    }
   ],
   "source": [
    "subElementObj1 = éléments.getElementsByTagName(\"SYNONYM\")\n",
    "Synonyme_en_français = []\n",
    "for i in subElementObj1:\n",
    "    j = i.getElementsByTagName(\"LITERAL\")\n",
    "    if(len(j)<=1):\n",
    "        Synonyme_en_français.append(j[0].childNodes[0].data)\n",
    "    else:\n",
    "        J = []\n",
    "        for i in range(len(j)):\n",
    "            l = j[i].childNodes\n",
    "            for L in l:\n",
    "                J.append(L.data)\n",
    "        Synonyme_en_français.append(J)\n",
    "#print(len(Synonyme_en_français))\n",
    "pprint(Synonyme_en_français[:20])"
   ]
  },
  {
   "cell_type": "code",
   "execution_count": 8,
   "metadata": {},
   "outputs": [
    {
     "name": "stdout",
     "output_type": "stream",
     "text": [
      "[\"(usually followed by `to') having the necessary means or skill or know-how or authority to do something\", 'without musical accompaniment', \"concept formulant la catégorisation et l'identique des choses de notre environnement\"]\n"
     ]
    }
   ],
   "source": [
    "subElementObj2 = éléments.getElementsByTagName(\"DEF\")\n",
    "Définition = []\n",
    "for i in subElementObj2:\n",
    "    Définition.append(i.childNodes[0].data)\n",
    "print(Définition[:3])"
   ]
  },
  {
   "cell_type": "code",
   "execution_count": 9,
   "metadata": {
    "scrolled": false
   },
   "outputs": [
    {
     "name": "stdout",
     "output_type": "stream",
     "text": [
      "117658\n",
      "117658\n",
      "117658\n"
     ]
    }
   ],
   "source": [
    "print(len(ID_WordNet_Transférable))\n",
    "print(len(Définition))\n",
    "print(len(Synonyme_en_français))"
   ]
  },
  {
   "cell_type": "code",
   "execution_count": null,
   "metadata": {},
   "outputs": [],
   "source": [
    "subElement = éléments.getElementsByTagName(\"SYNSET\")\n",
    "ILR = []\n",
    "for i in subElement:\n",
    "    m = i.getElementsByTagName(\"ILR\")\n",
    "    T ={}\n",
    "    t=[]\n",
    "    for j in range(len(m)):\n",
    "        l = m[j].childNodes\n",
    "        for L in l:\n",
    "            T[m[j].getAttribute(\"type\")]=L.data\n",
    "    ILR.append(T)\n",
    "print(len(ILR))\n",
    "print(ILR[:13])"
   ]
  },
  {
   "cell_type": "code",
   "execution_count": 26,
   "metadata": {},
   "outputs": [],
   "source": [
    "import pandas as pd\n",
    "Corpus_Wordnet = pd.DataFrame({\"ID\":ID_WordNet_Transférable,\"Synonyme_en_français\":Synonyme_en_français,\"Définition\":Définition,\"ILR\":ILR},index = [i for i in range(1,117659)])\n",
    "Corpus_Wordnet.to_csv(\"Corpus_WordNet.csv\",sep=\":\")\n",
    "Corpus_Wordnet.to_json(\"Corpus_WordNet.json\")\n",
    "Corpus_Wordnet.to_html(\"Corpus_Wordnet.html\")"
   ]
  },
  {
   "cell_type": "code",
   "execution_count": 25,
   "metadata": {},
   "outputs": [
    {
     "name": "stdout",
     "output_type": "stream",
     "text": [
      "117658\n",
      "[{'near_antonym': 'eng-30-00002098-a', 'be_in_state': 'eng-30-05616246-n', 'eng_derivative': 'eng-30-05616246-n'}, {}, {}, {'subevent': 'eng-30-00005041-v', 'also_see': 'eng-30-00005041-v', 'verb_group': 'eng-30-00002573-v', 'eng_derivative': 'eng-30-04250850-n'}, {}, {'hypernym': 'eng-30-00001740-n'}, {}, {'near_antonym': 'eng-30-00001740-a', 'be_in_state': 'eng-30-05200169-n'}, {'hypernym': 'eng-30-00001740-n', 'eng_derivative': 'eng-30-00692329-v'}, {}, {}, {'near_antonym': 'eng-30-00002527-a', 'category_domain': 'eng-30-06037666-n'}, {'hypernym': 'eng-30-02108377-v', 'verb_group': 'eng-30-00001740-v', 'eng_derivative': 'eng-30-03110322-a'}]\n"
     ]
    }
   ],
   "source": [
    "subElement = éléments.getElementsByTagName(\"SYNSET\")\n",
    "ILR = []\n",
    "for i in subElement:\n",
    "    m = i.getElementsByTagName(\"ILR\")\n",
    "    T ={}\n",
    "    t=[]\n",
    "    for j in range(len(m)):\n",
    "        l = m[j].childNodes\n",
    "        for L in l:\n",
    "            T[m[j].getAttribute(\"type\")]=L.data\n",
    "    ILR.append(T)\n",
    "print(len(ILR))\n",
    "print(ILR[:13])"
   ]
  }
 ],
 "metadata": {
  "kernelspec": {
   "display_name": "Python 3",
   "language": "python",
   "name": "python3"
  },
  "language_info": {
   "codemirror_mode": {
    "name": "ipython",
    "version": 3
   },
   "file_extension": ".py",
   "mimetype": "text/x-python",
   "name": "python",
   "nbconvert_exporter": "python",
   "pygments_lexer": "ipython3",
   "version": "3.7.3"
  }
 },
 "nbformat": 4,
 "nbformat_minor": 2
}
