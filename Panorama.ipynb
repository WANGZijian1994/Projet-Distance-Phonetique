{
 "cells": [
  {
   "cell_type": "code",
   "execution_count": 10,
   "metadata": {},
   "outputs": [],
   "source": [
    "import csv\n",
    "import pandas as pd\n",
    "\n",
    "# Open the csv with data\n",
    "with open(\"données/La deuxième version/Panorama1.0.csv\",'r',encoding = \"UTF-8\") as f:\n",
    "    reader = csv.reader(f)\n",
    "    rows = [row for row in reader]\n",
    "    \n",
    "def isPaireMinimale(t):\n",
    "    l1 = For_Nasal(t[0])\n",
    "    l2 = For_Nasal(t[1])\n",
    "    if(len(l1)^len(l2)==0 and Compare_list_PM(l1,l2)):\n",
    "        return True\n",
    "    return False\n",
    "\n",
    "def For_Nasal(t):\n",
    "    L = []\n",
    "    for char in t:\n",
    "        if(char!='̃'):\n",
    "            L.append(char)\n",
    "        else:\n",
    "            L[len(L)-1]+='̃'\n",
    "    return L\n",
    "For_Nasal(\"pɑ̃dɔʁ\")\n",
    "\n",
    "def Compare_list_PM(l1,l2):\n",
    "    counter = 0\n",
    "    for i in range(len(l1)):\n",
    "        if(l1[i]!=l2[i]):\n",
    "            counter+=1\n",
    "    return counter^1==0                       "
   ]
  },
  {
   "cell_type": "code",
   "execution_count": 11,
   "metadata": {},
   "outputs": [],
   "source": [
    "# Traiter les données\n",
    "Mots = []\n",
    "Transcription_Phonétique = []\n",
    "POS = []\n",
    "Paires_Minimales = []\n",
    "Fréquence = []\n",
    "Synset = []\n",
    "Définition = []\n",
    "Réseau = []\n",
    "for i in range(1,len(rows)):\n",
    "    s = \"\".join(rows[i])\n",
    "    l = s.split(\"\\'\")\n",
    "    k = [l[i] for i in range(1,len(l),2)]\n",
    "    Mots.append([k[0],k[1]])\n",
    "    Transcription_Phonétique.append([k[2],k[3]])\n",
    "    POS.append([k[4],k[5]])\n",
    "    Paires_Minimales.append([k[6],k[7]])\n",
    "    Fréquence.append([k[8],k[9]])\n",
    "    Synset.append([k[10],k[11]])\n",
    "    Définition.append([k[12],k[13]])\n",
    "    index = s.find(\"{\")\n",
    "    r1 = s[index:s.find(\"{\",index+1)]\n",
    "    index = s.find(\"{\",index+1)\n",
    "    r2 = s[index:s.find(\"}\",index+1)+1]\n",
    "    Réseau.append([r1,r2])"
   ]
  },
  {
   "cell_type": "code",
   "execution_count": 12,
   "metadata": {},
   "outputs": [],
   "source": [
    "### Nettoyage\n",
    "Synonyme = []\n",
    "for synset in Synset:\n",
    "    if(synset[0]!=' '):\n",
    "        i = synset[0].find('0')\n",
    "    else:\n",
    "        i = 0\n",
    "    if(synset[1]!=' '):\n",
    "        j = synset[1].find('0')\n",
    "    else:\n",
    "        j = 0\n",
    "    syn1 = synset[0][:i-1]\n",
    "    syn2 = synset[1][:j-1]\n",
    "    Synonyme.append([syn1,syn2])\n",
    "\n",
    "Signification1 = []\n",
    "for i in range(len(Définition)):\n",
    "    Signification = dict()\n",
    "    Signification[Mots[i][0]]=Définition[i][0]\n",
    "    Signification[Mots[i][1]]=Définition[i][1]\n",
    "    Signification1.append(Signification)\n",
    "\n",
    "Relation = []\n",
    "for i in range(len(Réseau)):\n",
    "    WordNet = dict()\n",
    "    if(Réseau[i][0].find(\"Synset(\")!=-1):\n",
    "        Réseau[i][0]=Réseau[i][0].replace(\"Synset(\",\"\")\n",
    "        Réseau[i][0]=Réseau[i][0].replace(Réseau[i][0][Réseau[i][0].find(\".0\"):(Réseau[i][0].find(\"')\")+2)],\"\")\n",
    "        Réseau[i][0]=Réseau[i][0].replace(Réseau[i][0][Réseau[i][0].find(\".0\"):(Réseau[i][0].find(\"')\")+2)],\"\")\n",
    "    if(Réseau[i][1].find(\"Synset(\")!=-1):\n",
    "        Réseau[i][1]=Réseau[i][1].replace(\"Synset(\",\"\")\n",
    "        Réseau[i][1]=Réseau[i][1].replace(Réseau[i][1][Réseau[i][1].find(\".0\"):(Réseau[i][1].find(\"')\")+2)],\"\")\n",
    "        Réseau[i][1]=Réseau[i][1].replace(Réseau[i][1][Réseau[i][1].find(\".0\"):(Réseau[i][1].find(\"')\")+2)],\"\")\n",
    "    WordNet[Mots[i][0]] = Réseau[i][0]\n",
    "    WordNet[Mots[i][1]] = Réseau[i][1]\n",
    "    Relation.append(WordNet)"
   ]
  },
  {
   "cell_type": "code",
   "execution_count": 13,
   "metadata": {},
   "outputs": [],
   "source": [
    "Panorama0_2 = pd.DataFrame({\"Mots\":Mots,\"Transcription\":Transcription_Phonétique,\"Paires_Minimales\":Paires_Minimales,\"Fréquence\":Fréquence,\"POS\":POS,\"Synonyme\":Synonyme,\"WordNet\":Relation},index = [i for i in range(1,len(Paires_Minimales)+1)])\n",
    "Panorama0_2.to_html(\"Panorama0.1.1.html\")"
   ]
  },
  {
   "cell_type": "code",
   "execution_count": 14,
   "metadata": {
    "scrolled": true
   },
   "outputs": [],
   "source": [
    "# Dans l'ordre de Paires_Minimales\n",
    "Panorama = list(zip(Mots,Paires_Minimales,Transcription_Phonétique,POS,Fréquence,Synonyme,Relation))\n",
    "l = sorted(Panorama,key = lambda x:x[1])"
   ]
  },
  {
   "cell_type": "code",
   "execution_count": 15,
   "metadata": {
    "scrolled": false
   },
   "outputs": [
    {
     "data": {
      "text/plain": [
       "13118"
      ]
     },
     "execution_count": 15,
     "metadata": {},
     "output_type": "execute_result"
    }
   ],
   "source": [
    "# Supprimer les répétitions\n",
    "k = sorted(Panorama,key = lambda x:x[1])\n",
    "for i in range(len(k)-1):\n",
    "    détecteur = 1\n",
    "    while(k[i][0]==k[i+détecteur][0] and ((i+détecteur)<=(len(k)-1))):\n",
    "        #print(i+1,\"k:\",len(k),\"l:\",len(l),\"k[i]:\",k[i][0],\"k[i+détecteur]:\",k[i+détecteur][0])\n",
    "        s = k[i+détecteur]\n",
    "        try:\n",
    "            l.remove(s)\n",
    "        except:\n",
    "            ValueError\n",
    "        détecteur+=1\n",
    "len(l)"
   ]
  },
  {
   "cell_type": "code",
   "execution_count": 16,
   "metadata": {
    "scrolled": false
   },
   "outputs": [
    {
     "name": "stdout",
     "output_type": "stream",
     "text": [
      "13552\n"
     ]
    }
   ],
   "source": [
    "l += l_adj\n",
    "print(len(l))"
   ]
  },
  {
   "cell_type": "code",
   "execution_count": 18,
   "metadata": {},
   "outputs": [],
   "source": [
    "l.remove(l[13119])"
   ]
  },
  {
   "cell_type": "code",
   "execution_count": 19,
   "metadata": {},
   "outputs": [],
   "source": [
    "Panorama0 = pd.DataFrame({\"Mots\":[l[i][0] for i in range(len(l))],\"Transcription Phonétique\":[l[i][2] for i in range(len(l))],\"Paires Minimales\":[l[i][1] for i in range(len(l))],\"POS\":[l[i][3] for i in range(len(l))],\"Fréquence\":[l[i][4] for i in range(len(l))],\"Synonyme\":[l[i][5] for i in range(len(l))],\"WordNet\":[l[i][6] for i in range(len(l))]},index = [i for i in range(1,len(l)+1)])"
   ]
  },
  {
   "cell_type": "code",
   "execution_count": 20,
   "metadata": {},
   "outputs": [
    {
     "data": {
      "text/plain": [
       "(13551, 7)"
      ]
     },
     "execution_count": 20,
     "metadata": {},
     "output_type": "execute_result"
    }
   ],
   "source": [
    "Panorama0.shape"
   ]
  },
  {
   "cell_type": "code",
   "execution_count": 21,
   "metadata": {
    "scrolled": true
   },
   "outputs": [
    {
     "data": {
      "text/html": [
       "<div>\n",
       "<style scoped>\n",
       "    .dataframe tbody tr th:only-of-type {\n",
       "        vertical-align: middle;\n",
       "    }\n",
       "\n",
       "    .dataframe tbody tr th {\n",
       "        vertical-align: top;\n",
       "    }\n",
       "\n",
       "    .dataframe thead th {\n",
       "        text-align: right;\n",
       "    }\n",
       "</style>\n",
       "<table border=\"1\" class=\"dataframe\">\n",
       "  <thead>\n",
       "    <tr style=\"text-align: right;\">\n",
       "      <th></th>\n",
       "      <th>Mots</th>\n",
       "      <th>Transcription Phonétique</th>\n",
       "      <th>Paires Minimales</th>\n",
       "      <th>POS</th>\n",
       "      <th>Fréquence</th>\n",
       "      <th>Synonyme</th>\n",
       "      <th>WordNet</th>\n",
       "    </tr>\n",
       "  </thead>\n",
       "  <tbody>\n",
       "    <tr>\n",
       "      <th>200</th>\n",
       "      <td>[passer, pisé]</td>\n",
       "      <td>[pase, pise]</td>\n",
       "      <td>[a, i]</td>\n",
       "      <td>[Verbe, Nom]</td>\n",
       "      <td>[2, 2]</td>\n",
       "      <td>[belong.v, loam.n]</td>\n",
       "      <td>{'passer': '{'hypernym': 'be.v} ', 'pisé': '{'...</td>\n",
       "    </tr>\n",
       "    <tr>\n",
       "      <th>201</th>\n",
       "      <td>[passer, pisser]</td>\n",
       "      <td>[pase, pise]</td>\n",
       "      <td>[a, i]</td>\n",
       "      <td>[Verbe, Verbe]</td>\n",
       "      <td>[2, 2]</td>\n",
       "      <td>[belong.v, dunk.v]</td>\n",
       "      <td>{'passer': '{'hypernym': 'be.v} ', 'pisser': '...</td>\n",
       "    </tr>\n",
       "    <tr>\n",
       "      <th>202</th>\n",
       "      <td>[pavot, pivot]</td>\n",
       "      <td>[pavo, pivo]</td>\n",
       "      <td>[a, i]</td>\n",
       "      <td>[Nom, Nom]</td>\n",
       "      <td>[1, 3]</td>\n",
       "      <td>[papaver.n, pivot.n]</td>\n",
       "      <td>{'pavot': '{'hypernym': 'dilleniid_dicot_genus...</td>\n",
       "    </tr>\n",
       "    <tr>\n",
       "      <th>203</th>\n",
       "      <td>[pipa, pipi]</td>\n",
       "      <td>[pipa, pipi]</td>\n",
       "      <td>[a, i]</td>\n",
       "      <td>[Nom, Nom]</td>\n",
       "      <td>[1, 1]</td>\n",
       "      <td>[pipa.n, urine.n]</td>\n",
       "      <td>{'pipa': '{'hypernym': 'amphibian_genus.n 'hol...</td>\n",
       "    </tr>\n",
       "    <tr>\n",
       "      <th>204</th>\n",
       "      <td>[pirate, pyrite]</td>\n",
       "      <td>[piʁat, piʁit]</td>\n",
       "      <td>[a, i]</td>\n",
       "      <td>[Nom, Nom]</td>\n",
       "      <td>[3, 2]</td>\n",
       "      <td>[plagiarist.n, pyrites.n]</td>\n",
       "      <td>{'pirate': '{'hypernym': 'thief.n 'eng_derivat...</td>\n",
       "    </tr>\n",
       "    <tr>\n",
       "      <th>205</th>\n",
       "      <td>[pita, pythie]</td>\n",
       "      <td>[pita, piti]</td>\n",
       "      <td>[a, i]</td>\n",
       "      <td>[Nom, Nom]</td>\n",
       "      <td>[3, 1]</td>\n",
       "      <td>[pita.n, pythia.n]</td>\n",
       "      <td>{'pita': '{'hypernym': 'flatbread.n 'holo_part...</td>\n",
       "    </tr>\n",
       "    <tr>\n",
       "      <th>206</th>\n",
       "      <td>[placer, plissé]</td>\n",
       "      <td>[plase, plise]</td>\n",
       "      <td>[a, i]</td>\n",
       "      <td>[Verbe, Nom]</td>\n",
       "      <td>[2, 2]</td>\n",
       "      <td>[place.n., pleat.n]</td>\n",
       "      <td>{'placer': '{'hypernym': 'condition.n 'eng_der...</td>\n",
       "    </tr>\n",
       "    <tr>\n",
       "      <th>207</th>\n",
       "      <td>[platane, platine]</td>\n",
       "      <td>[platan, platin]</td>\n",
       "      <td>[a, i]</td>\n",
       "      <td>[Nom, Nom]</td>\n",
       "      <td>[1, 1]</td>\n",
       "      <td>[sycamore.n, platinum.n]</td>\n",
       "      <td>{'platane': '{'hypernym': 'wood.n 'holo_portio...</td>\n",
       "    </tr>\n",
       "    <tr>\n",
       "      <th>208</th>\n",
       "      <td>[plat, plie]</td>\n",
       "      <td>[pla, pli]</td>\n",
       "      <td>[a, i]</td>\n",
       "      <td>[Nom, Nom]</td>\n",
       "      <td>[2, 3]</td>\n",
       "      <td>[dish.n, plaice.n]</td>\n",
       "      <td>{'plat': '{'hypernym': 'nutriment.n 'holo_part...</td>\n",
       "    </tr>\n",
       "    <tr>\n",
       "      <th>209</th>\n",
       "      <td>[plat, pli]</td>\n",
       "      <td>[pla, pli]</td>\n",
       "      <td>[a, i]</td>\n",
       "      <td>[Nom, Nom]</td>\n",
       "      <td>[2, 2]</td>\n",
       "      <td>[dish.n, fold.n]</td>\n",
       "      <td>{'plat': '{'hypernym': 'nutriment.n 'holo_part...</td>\n",
       "    </tr>\n",
       "    <tr>\n",
       "      <th>210</th>\n",
       "      <td>[polar, polir]</td>\n",
       "      <td>[pɔlaʁ, pɔliʁ]</td>\n",
       "      <td>[a, i]</td>\n",
       "      <td>[Nom, Verbe]</td>\n",
       "      <td>[2, 1]</td>\n",
       "      <td>[thriller.n, polish.v]</td>\n",
       "      <td>{'polar': '{'hypernym': 'adventure_story.n 'en...</td>\n",
       "    </tr>\n",
       "    <tr>\n",
       "      <th>211</th>\n",
       "      <td>[racine, ricine]</td>\n",
       "      <td>[ʁasin, ʁisin]</td>\n",
       "      <td>[a, i]</td>\n",
       "      <td>[Nom, Nom]</td>\n",
       "      <td>[3, 2]</td>\n",
       "      <td>[root.n, ricin.n]</td>\n",
       "      <td>{'racine': '{'hypernym': 'number.n} ', 'ricine...</td>\n",
       "    </tr>\n",
       "    <tr>\n",
       "      <th>212</th>\n",
       "      <td>[radeau, rideau]</td>\n",
       "      <td>[ʁado, ʁido]</td>\n",
       "      <td>[a, i]</td>\n",
       "      <td>[Nom, Nom]</td>\n",
       "      <td>[2, 2]</td>\n",
       "      <td>[raft.n, curtain.n]</td>\n",
       "      <td>{'radeau': '{'hypernym': 'float.n 'eng_derivat...</td>\n",
       "    </tr>\n",
       "    <tr>\n",
       "      <th>213</th>\n",
       "      <td>[rade, ride]</td>\n",
       "      <td>[ʁad, ʁid]</td>\n",
       "      <td>[a, i]</td>\n",
       "      <td>[Nom, Nom]</td>\n",
       "      <td>[1, 1]</td>\n",
       "      <td>[roads.n, wrinkle.n]</td>\n",
       "      <td>{'rade': '{'hypernym': 'anchorage.n} ', 'ride'...</td>\n",
       "    </tr>\n",
       "    <tr>\n",
       "      <th>214</th>\n",
       "      <td>[rame, rime]</td>\n",
       "      <td>[ʁam, ʁim]</td>\n",
       "      <td>[a, i]</td>\n",
       "      <td>[Nom, Nom]</td>\n",
       "      <td>[1, 2]</td>\n",
       "      <td>[paddle.n, rhyme.n]</td>\n",
       "      <td>{'rame': '{'hypernym': 'blade.n 'holo_part': '...</td>\n",
       "    </tr>\n",
       "    <tr>\n",
       "      <th>215</th>\n",
       "      <td>[ra, riz]</td>\n",
       "      <td>[ʁa, ʁi]</td>\n",
       "      <td>[a, i]</td>\n",
       "      <td>[Nom, Nom]</td>\n",
       "      <td>[1, 1]</td>\n",
       "      <td>[radium.n, cultivated_rice.n]</td>\n",
       "      <td>{'ra': '{'hypernym': 'metallic_element.n 'holo...</td>\n",
       "    </tr>\n",
       "    <tr>\n",
       "      <th>216</th>\n",
       "      <td>[rate, rite]</td>\n",
       "      <td>[ʁat, ʁit]</td>\n",
       "      <td>[a, i]</td>\n",
       "      <td>[Nom, Nom]</td>\n",
       "      <td>[2, 1]</td>\n",
       "      <td>[irascibility.n, rite.n]</td>\n",
       "      <td>{'rate': '{'hypernym': 'bad_temper.n 'eng_deri...</td>\n",
       "    </tr>\n",
       "    <tr>\n",
       "      <th>217</th>\n",
       "      <td>[rat, riz]</td>\n",
       "      <td>[ʁa, ʁi]</td>\n",
       "      <td>[a, i]</td>\n",
       "      <td>[Nom, Nom]</td>\n",
       "      <td>[3, 1]</td>\n",
       "      <td>[scab.n, cultivated_rice.n]</td>\n",
       "      <td>{'rat': '{'hypernym': 'worker.n 'eng_derivativ...</td>\n",
       "    </tr>\n",
       "    <tr>\n",
       "      <th>218</th>\n",
       "      <td>[ravage, rivage]</td>\n",
       "      <td>[ʁavaʒ, ʁivaʒ]</td>\n",
       "      <td>[a, i]</td>\n",
       "      <td>[Nom, Nom]</td>\n",
       "      <td>[2, 1]</td>\n",
       "      <td>[destruction.n, shoreline.n]</td>\n",
       "      <td>{'ravage': '{'hypernym': 'termination.n 'eng_d...</td>\n",
       "    </tr>\n",
       "    <tr>\n",
       "      <th>219</th>\n",
       "      <td>[sac, sic]</td>\n",
       "      <td>[sak, sik]</td>\n",
       "      <td>[a, i]</td>\n",
       "      <td>[Nom, Adverbe]</td>\n",
       "      <td>[2, 1]</td>\n",
       "      <td>[swelling.n, ]</td>\n",
       "      <td>{'sac': '{'hypernym': 'enlargement.n 'eng_deri...</td>\n",
       "    </tr>\n",
       "    <tr>\n",
       "      <th>220</th>\n",
       "      <td>[sédation, sédition]</td>\n",
       "      <td>[sedasjɔ̃, sedisjɔ̃]</td>\n",
       "      <td>[a, i]</td>\n",
       "      <td>[Nom, Nom]</td>\n",
       "      <td>[2, 2]</td>\n",
       "      <td>[sedation.n, sedition.n]</td>\n",
       "      <td>{'sédation': '{'hypernym': 'physical_condition...</td>\n",
       "    </tr>\n",
       "    <tr>\n",
       "      <th>221</th>\n",
       "      <td>[sale, scille]</td>\n",
       "      <td>[sal, sil]</td>\n",
       "      <td>[a, i]</td>\n",
       "      <td>[Nom, Nom]</td>\n",
       "      <td>[1, 2]</td>\n",
       "      <td>[dirty.s, squill.n]</td>\n",
       "      <td>{'sale': '{'similar_to': 'septic.a 'eng_deriva...</td>\n",
       "    </tr>\n",
       "    <tr>\n",
       "      <th>222</th>\n",
       "      <td>[salle, scille]</td>\n",
       "      <td>[sal, sil]</td>\n",
       "      <td>[a, i]</td>\n",
       "      <td>[Nom, Nom]</td>\n",
       "      <td>[2, 2]</td>\n",
       "      <td>[room.n, squill.n]</td>\n",
       "      <td>{'salle': '{'hypernym': 'opportunity.n} ', 'sc...</td>\n",
       "    </tr>\n",
       "    <tr>\n",
       "      <th>223</th>\n",
       "      <td>[sari, scierie]</td>\n",
       "      <td>[saʁi, siʁi]</td>\n",
       "      <td>[a, i]</td>\n",
       "      <td>[Nom, Nom]</td>\n",
       "      <td>[1, 1]</td>\n",
       "      <td>[sari.n, sawmill.n]</td>\n",
       "      <td>{'sari': '{'hypernym': 'dress.n} ', 'scierie':...</td>\n",
       "    </tr>\n",
       "    <tr>\n",
       "      <th>224</th>\n",
       "      <td>[sas, six]</td>\n",
       "      <td>[sas, sis]</td>\n",
       "      <td>[a, i]</td>\n",
       "      <td>[Nom, Nom]</td>\n",
       "      <td>[1, 3]</td>\n",
       "      <td>[airlock.n, six.n]</td>\n",
       "      <td>{'sas': '{'hypernym': 'chamber.n} ', 'six': '{...</td>\n",
       "    </tr>\n",
       "    <tr>\n",
       "      <th>225</th>\n",
       "      <td>[tapage, typage]</td>\n",
       "      <td>[tapaʒ, tipaʒ]</td>\n",
       "      <td>[a, i]</td>\n",
       "      <td>[Nom, Nom]</td>\n",
       "      <td>[1, 2]</td>\n",
       "      <td>[disturbance.n, typing.n]</td>\n",
       "      <td>{'tapage': '{'hypernym': 'disorder.n} ', 'typa...</td>\n",
       "    </tr>\n",
       "    <tr>\n",
       "      <th>226</th>\n",
       "      <td>[tapis, tipi]</td>\n",
       "      <td>[tapi, tipi]</td>\n",
       "      <td>[a, i]</td>\n",
       "      <td>[Nom, Nom]</td>\n",
       "      <td>[2, 2]</td>\n",
       "      <td>[rug.n, tepee.n]</td>\n",
       "      <td>{'tapis': '{'hypernym': 'furnishing.n 'eng_der...</td>\n",
       "    </tr>\n",
       "    <tr>\n",
       "      <th>227</th>\n",
       "      <td>[taret, tiret]</td>\n",
       "      <td>[taʁɛ, tiʁɛ]</td>\n",
       "      <td>[a, i]</td>\n",
       "      <td>[Nom, Nom]</td>\n",
       "      <td>[1, 2]</td>\n",
       "      <td>[shipworm.n, dash.n]</td>\n",
       "      <td>{'taret': '{'hypernym': 'clam.n 'holo_member':...</td>\n",
       "    </tr>\n",
       "    <tr>\n",
       "      <th>228</th>\n",
       "      <td>[tarse, thyrse]</td>\n",
       "      <td>[taʁs, tiʁs]</td>\n",
       "      <td>[a, i]</td>\n",
       "      <td>[Nom, Nom]</td>\n",
       "      <td>[1, 2]</td>\n",
       "      <td>[tarsus.n, thyrse.n]</td>\n",
       "      <td>{'tarse': '{'hypernym': 'skeletal_structure.n ...</td>\n",
       "    </tr>\n",
       "    <tr>\n",
       "      <th>229</th>\n",
       "      <td>[tartane, tartine]</td>\n",
       "      <td>[taʁtan, taʁtin]</td>\n",
       "      <td>[a, i]</td>\n",
       "      <td>[Nom, Nom]</td>\n",
       "      <td>[1, 1]</td>\n",
       "      <td>[tartan.n, toast.n]</td>\n",
       "      <td>{'tartane': '{'hypernym': 'fabric.n} ', 'tarti...</td>\n",
       "    </tr>\n",
       "    <tr>\n",
       "      <th>230</th>\n",
       "      <td>[trachée, tricher]</td>\n",
       "      <td>[tʁaʃe, tʁiʃe]</td>\n",
       "      <td>[a, i]</td>\n",
       "      <td>[Nom, Verbe]</td>\n",
       "      <td>[1, 2]</td>\n",
       "      <td>[trachea.n, cheat.v]</td>\n",
       "      <td>{'trachée': '{'hypernym': 'tubule.n 'holo_part...</td>\n",
       "    </tr>\n",
       "    <tr>\n",
       "      <th>231</th>\n",
       "      <td>[trac, trique]</td>\n",
       "      <td>[tʁak, tʁik]</td>\n",
       "      <td>[a, i]</td>\n",
       "      <td>[Nom, Nom]</td>\n",
       "      <td>[1, 1]</td>\n",
       "      <td>[stage_fright.n, blunder.n]</td>\n",
       "      <td>{'trac': '{'hypernym': 'fear.n} ', 'trique': '...</td>\n",
       "    </tr>\n",
       "    <tr>\n",
       "      <th>232</th>\n",
       "      <td>[val, ville]</td>\n",
       "      <td>[val, vil]</td>\n",
       "      <td>[a, i]</td>\n",
       "      <td>[Nom, Nom]</td>\n",
       "      <td>[1, 2]</td>\n",
       "      <td>[valley.n, township.n]</td>\n",
       "      <td>{'val': '{'hypernym': 'natural_depression.n} '...</td>\n",
       "    </tr>\n",
       "    <tr>\n",
       "      <th>233</th>\n",
       "      <td>[vannerie, vinerie]</td>\n",
       "      <td>[vanəʁi, vinəʁi]</td>\n",
       "      <td>[a, i]</td>\n",
       "      <td>[Nom, Nom]</td>\n",
       "      <td>[3, 3]</td>\n",
       "      <td>[wicker.n, winery.n]</td>\n",
       "      <td>{'vannerie': '{'hypernym': 'work.n} ', 'vineri...</td>\n",
       "    </tr>\n",
       "    <tr>\n",
       "      <th>234</th>\n",
       "      <td>[yoga, yogi]</td>\n",
       "      <td>[jɔga, jɔgi]</td>\n",
       "      <td>[a, i]</td>\n",
       "      <td>[Nom, Nom]</td>\n",
       "      <td>[1, 1]</td>\n",
       "      <td>[yoga.n, yogi.n]</td>\n",
       "      <td>{'yoga': '{'hypernym': 'hinduism.n 'eng_deriva...</td>\n",
       "    </tr>\n",
       "    <tr>\n",
       "      <th>235</th>\n",
       "      <td>[aï, khi]</td>\n",
       "      <td>[ai, ki]</td>\n",
       "      <td>[a, k]</td>\n",
       "      <td>[Nom, Nom]</td>\n",
       "      <td>[1, 3]</td>\n",
       "      <td>[sloth.n, chi.n]</td>\n",
       "      <td>{'aï': '{'hypernym': 'reluctance.n 'eng_deriva...</td>\n",
       "    </tr>\n",
       "    <tr>\n",
       "      <th>236</th>\n",
       "      <td>[ahuri, curie]</td>\n",
       "      <td>[ayʁi, kyʁi]</td>\n",
       "      <td>[a, k]</td>\n",
       "      <td>[Nom, Nom]</td>\n",
       "      <td>[1, 2]</td>\n",
       "      <td>[dumbfounded.s, curie.n]</td>\n",
       "      <td>{'ahuri': '{'similar_to': 'surprised.a} ', 'cu...</td>\n",
       "    </tr>\n",
       "    <tr>\n",
       "      <th>237</th>\n",
       "      <td>[ahuri, curry]</td>\n",
       "      <td>[ayʁi, kyʁi]</td>\n",
       "      <td>[a, k]</td>\n",
       "      <td>[Nom, Nom]</td>\n",
       "      <td>[1, 2]</td>\n",
       "      <td>[dumbfounded.s, curry.n]</td>\n",
       "      <td>{'ahuri': '{'similar_to': 'surprised.a} ', 'cu...</td>\n",
       "    </tr>\n",
       "    <tr>\n",
       "      <th>238</th>\n",
       "      <td>[allée, clé]</td>\n",
       "      <td>[ale, kle]</td>\n",
       "      <td>[a, k]</td>\n",
       "      <td>[Nom, Nom]</td>\n",
       "      <td>[2, 1]</td>\n",
       "      <td>[driveway.n, key.n]</td>\n",
       "      <td>{'allée': '{'hypernym': 'road.n 'eng_derivativ...</td>\n",
       "    </tr>\n",
       "    <tr>\n",
       "      <th>239</th>\n",
       "      <td>[allée, clef]</td>\n",
       "      <td>[ale, kle]</td>\n",
       "      <td>[a, k]</td>\n",
       "      <td>[Nom, Nom]</td>\n",
       "      <td>[2, 3]</td>\n",
       "      <td>[driveway.n, key.n]</td>\n",
       "      <td>{'allée': '{'hypernym': 'road.n 'eng_derivativ...</td>\n",
       "    </tr>\n",
       "    <tr>\n",
       "      <th>240</th>\n",
       "      <td>[aller, clé]</td>\n",
       "      <td>[ale, kle]</td>\n",
       "      <td>[a, k]</td>\n",
       "      <td>[Nom, Nom]</td>\n",
       "      <td>[2, 1]</td>\n",
       "      <td>[go.n, key.n]</td>\n",
       "      <td>{'aller': '{'hypernym': 'shift.n 'eng_derivati...</td>\n",
       "    </tr>\n",
       "    <tr>\n",
       "      <th>241</th>\n",
       "      <td>[aller, clef]</td>\n",
       "      <td>[ale, kle]</td>\n",
       "      <td>[a, k]</td>\n",
       "      <td>[Nom, Nom]</td>\n",
       "      <td>[2, 3]</td>\n",
       "      <td>[go.n, key.n]</td>\n",
       "      <td>{'aller': '{'hypernym': 'shift.n 'eng_derivati...</td>\n",
       "    </tr>\n",
       "    <tr>\n",
       "      <th>242</th>\n",
       "      <td>[aller, clé]</td>\n",
       "      <td>[ale, kle]</td>\n",
       "      <td>[a, k]</td>\n",
       "      <td>[Verbe, Nom]</td>\n",
       "      <td>[2, 1]</td>\n",
       "      <td>[go.n, key.n]</td>\n",
       "      <td>{'aller': '{'hypernym': 'shift.n 'eng_derivati...</td>\n",
       "    </tr>\n",
       "    <tr>\n",
       "      <th>243</th>\n",
       "      <td>[aller, clef]</td>\n",
       "      <td>[ale, kle]</td>\n",
       "      <td>[a, k]</td>\n",
       "      <td>[Verbe, Nom]</td>\n",
       "      <td>[2, 3]</td>\n",
       "      <td>[go.n, key.n]</td>\n",
       "      <td>{'aller': '{'hypernym': 'shift.n 'eng_derivati...</td>\n",
       "    </tr>\n",
       "    <tr>\n",
       "      <th>244</th>\n",
       "      <td>[alors, chlore]</td>\n",
       "      <td>[alɔʁ, klɔʁ]</td>\n",
       "      <td>[a, k]</td>\n",
       "      <td>[Adverbe, Nom]</td>\n",
       "      <td>[1, 2]</td>\n",
       "      <td>[then.n, chlorine.n]</td>\n",
       "      <td>{'alors': '{'hypernym': 'point.n} ', 'chlore':...</td>\n",
       "    </tr>\n",
       "    <tr>\n",
       "      <th>245</th>\n",
       "      <td>[alors, clore]</td>\n",
       "      <td>[alɔʁ, klɔʁ]</td>\n",
       "      <td>[a, k]</td>\n",
       "      <td>[Adverbe, Verbe]</td>\n",
       "      <td>[1, 1]</td>\n",
       "      <td>[then.n, end.v]</td>\n",
       "      <td>{'alors': '{'hypernym': 'point.n} ', 'clore': ...</td>\n",
       "    </tr>\n",
       "    <tr>\n",
       "      <th>246</th>\n",
       "      <td>[amer, khmer]</td>\n",
       "      <td>[amɛʁ, kmɛʁ]</td>\n",
       "      <td>[a, k]</td>\n",
       "      <td>[Nom, Nom]</td>\n",
       "      <td>[1, 1]</td>\n",
       "      <td>[bitters.n, khmer.n]</td>\n",
       "      <td>{'amer': '{'hypernym': 'liquor.n} ', 'khmer': ...</td>\n",
       "    </tr>\n",
       "    <tr>\n",
       "      <th>247</th>\n",
       "      <td>[août, coût]</td>\n",
       "      <td>[au, ku]</td>\n",
       "      <td>[a, k]</td>\n",
       "      <td>[Nom, Nom]</td>\n",
       "      <td>[1, 2]</td>\n",
       "      <td>[august.n, cost.n]</td>\n",
       "      <td>{'août': '{'hypernym': 'gregorian_calendar_mon...</td>\n",
       "    </tr>\n",
       "    <tr>\n",
       "      <th>248</th>\n",
       "      <td>[août, cou]</td>\n",
       "      <td>[au, ku]</td>\n",
       "      <td>[a, k]</td>\n",
       "      <td>[Nom, Nom]</td>\n",
       "      <td>[1, 3]</td>\n",
       "      <td>[august.n, lodger.n]</td>\n",
       "      <td>{'août': '{'hypernym': 'gregorian_calendar_mon...</td>\n",
       "    </tr>\n",
       "    <tr>\n",
       "      <th>249</th>\n",
       "      <td>[août, coup]</td>\n",
       "      <td>[au, ku]</td>\n",
       "      <td>[a, k]</td>\n",
       "      <td>[Nom, Nom]</td>\n",
       "      <td>[1, 1]</td>\n",
       "      <td>[august.n, gust.n]</td>\n",
       "      <td>{'août': '{'hypernym': 'gregorian_calendar_mon...</td>\n",
       "    </tr>\n",
       "    <tr>\n",
       "      <th>250</th>\n",
       "      <td>[arête, crête]</td>\n",
       "      <td>[aʁɛt, kʁɛt]</td>\n",
       "      <td>[a, k]</td>\n",
       "      <td>[Nom, Nom]</td>\n",
       "      <td>[1, 1]</td>\n",
       "      <td>[bridge.n, acme.n]</td>\n",
       "      <td>{'arête': '{'hypernym': 'structure.n 'holo_par...</td>\n",
       "    </tr>\n",
       "  </tbody>\n",
       "</table>\n",
       "</div>"
      ],
      "text/plain": [
       "                     Mots Transcription Phonétique Paires Minimales  \\\n",
       "200        [passer, pisé]             [pase, pise]           [a, i]   \n",
       "201      [passer, pisser]             [pase, pise]           [a, i]   \n",
       "202        [pavot, pivot]             [pavo, pivo]           [a, i]   \n",
       "203          [pipa, pipi]             [pipa, pipi]           [a, i]   \n",
       "204      [pirate, pyrite]           [piʁat, piʁit]           [a, i]   \n",
       "205        [pita, pythie]             [pita, piti]           [a, i]   \n",
       "206      [placer, plissé]           [plase, plise]           [a, i]   \n",
       "207    [platane, platine]         [platan, platin]           [a, i]   \n",
       "208          [plat, plie]               [pla, pli]           [a, i]   \n",
       "209           [plat, pli]               [pla, pli]           [a, i]   \n",
       "210        [polar, polir]           [pɔlaʁ, pɔliʁ]           [a, i]   \n",
       "211      [racine, ricine]           [ʁasin, ʁisin]           [a, i]   \n",
       "212      [radeau, rideau]             [ʁado, ʁido]           [a, i]   \n",
       "213          [rade, ride]               [ʁad, ʁid]           [a, i]   \n",
       "214          [rame, rime]               [ʁam, ʁim]           [a, i]   \n",
       "215             [ra, riz]                 [ʁa, ʁi]           [a, i]   \n",
       "216          [rate, rite]               [ʁat, ʁit]           [a, i]   \n",
       "217            [rat, riz]                 [ʁa, ʁi]           [a, i]   \n",
       "218      [ravage, rivage]           [ʁavaʒ, ʁivaʒ]           [a, i]   \n",
       "219            [sac, sic]               [sak, sik]           [a, i]   \n",
       "220  [sédation, sédition]     [sedasjɔ̃, sedisjɔ̃]           [a, i]   \n",
       "221        [sale, scille]               [sal, sil]           [a, i]   \n",
       "222       [salle, scille]               [sal, sil]           [a, i]   \n",
       "223       [sari, scierie]             [saʁi, siʁi]           [a, i]   \n",
       "224            [sas, six]               [sas, sis]           [a, i]   \n",
       "225      [tapage, typage]           [tapaʒ, tipaʒ]           [a, i]   \n",
       "226         [tapis, tipi]             [tapi, tipi]           [a, i]   \n",
       "227        [taret, tiret]             [taʁɛ, tiʁɛ]           [a, i]   \n",
       "228       [tarse, thyrse]             [taʁs, tiʁs]           [a, i]   \n",
       "229    [tartane, tartine]         [taʁtan, taʁtin]           [a, i]   \n",
       "230    [trachée, tricher]           [tʁaʃe, tʁiʃe]           [a, i]   \n",
       "231        [trac, trique]             [tʁak, tʁik]           [a, i]   \n",
       "232          [val, ville]               [val, vil]           [a, i]   \n",
       "233   [vannerie, vinerie]         [vanəʁi, vinəʁi]           [a, i]   \n",
       "234          [yoga, yogi]             [jɔga, jɔgi]           [a, i]   \n",
       "235             [aï, khi]                 [ai, ki]           [a, k]   \n",
       "236        [ahuri, curie]             [ayʁi, kyʁi]           [a, k]   \n",
       "237        [ahuri, curry]             [ayʁi, kyʁi]           [a, k]   \n",
       "238          [allée, clé]               [ale, kle]           [a, k]   \n",
       "239         [allée, clef]               [ale, kle]           [a, k]   \n",
       "240          [aller, clé]               [ale, kle]           [a, k]   \n",
       "241         [aller, clef]               [ale, kle]           [a, k]   \n",
       "242          [aller, clé]               [ale, kle]           [a, k]   \n",
       "243         [aller, clef]               [ale, kle]           [a, k]   \n",
       "244       [alors, chlore]             [alɔʁ, klɔʁ]           [a, k]   \n",
       "245        [alors, clore]             [alɔʁ, klɔʁ]           [a, k]   \n",
       "246         [amer, khmer]             [amɛʁ, kmɛʁ]           [a, k]   \n",
       "247          [août, coût]                 [au, ku]           [a, k]   \n",
       "248           [août, cou]                 [au, ku]           [a, k]   \n",
       "249          [août, coup]                 [au, ku]           [a, k]   \n",
       "250        [arête, crête]             [aʁɛt, kʁɛt]           [a, k]   \n",
       "\n",
       "                  POS Fréquence                       Synonyme  \\\n",
       "200      [Verbe, Nom]    [2, 2]             [belong.v, loam.n]   \n",
       "201    [Verbe, Verbe]    [2, 2]             [belong.v, dunk.v]   \n",
       "202        [Nom, Nom]    [1, 3]           [papaver.n, pivot.n]   \n",
       "203        [Nom, Nom]    [1, 1]              [pipa.n, urine.n]   \n",
       "204        [Nom, Nom]    [3, 2]      [plagiarist.n, pyrites.n]   \n",
       "205        [Nom, Nom]    [3, 1]             [pita.n, pythia.n]   \n",
       "206      [Verbe, Nom]    [2, 2]            [place.n., pleat.n]   \n",
       "207        [Nom, Nom]    [1, 1]       [sycamore.n, platinum.n]   \n",
       "208        [Nom, Nom]    [2, 3]             [dish.n, plaice.n]   \n",
       "209        [Nom, Nom]    [2, 2]               [dish.n, fold.n]   \n",
       "210      [Nom, Verbe]    [2, 1]         [thriller.n, polish.v]   \n",
       "211        [Nom, Nom]    [3, 2]              [root.n, ricin.n]   \n",
       "212        [Nom, Nom]    [2, 2]            [raft.n, curtain.n]   \n",
       "213        [Nom, Nom]    [1, 1]           [roads.n, wrinkle.n]   \n",
       "214        [Nom, Nom]    [1, 2]            [paddle.n, rhyme.n]   \n",
       "215        [Nom, Nom]    [1, 1]  [radium.n, cultivated_rice.n]   \n",
       "216        [Nom, Nom]    [2, 1]       [irascibility.n, rite.n]   \n",
       "217        [Nom, Nom]    [3, 1]    [scab.n, cultivated_rice.n]   \n",
       "218        [Nom, Nom]    [2, 1]   [destruction.n, shoreline.n]   \n",
       "219    [Nom, Adverbe]    [2, 1]                 [swelling.n, ]   \n",
       "220        [Nom, Nom]    [2, 2]       [sedation.n, sedition.n]   \n",
       "221        [Nom, Nom]    [1, 2]            [dirty.s, squill.n]   \n",
       "222        [Nom, Nom]    [2, 2]             [room.n, squill.n]   \n",
       "223        [Nom, Nom]    [1, 1]            [sari.n, sawmill.n]   \n",
       "224        [Nom, Nom]    [1, 3]             [airlock.n, six.n]   \n",
       "225        [Nom, Nom]    [1, 2]      [disturbance.n, typing.n]   \n",
       "226        [Nom, Nom]    [2, 2]               [rug.n, tepee.n]   \n",
       "227        [Nom, Nom]    [1, 2]           [shipworm.n, dash.n]   \n",
       "228        [Nom, Nom]    [1, 2]           [tarsus.n, thyrse.n]   \n",
       "229        [Nom, Nom]    [1, 1]            [tartan.n, toast.n]   \n",
       "230      [Nom, Verbe]    [1, 2]           [trachea.n, cheat.v]   \n",
       "231        [Nom, Nom]    [1, 1]    [stage_fright.n, blunder.n]   \n",
       "232        [Nom, Nom]    [1, 2]         [valley.n, township.n]   \n",
       "233        [Nom, Nom]    [3, 3]           [wicker.n, winery.n]   \n",
       "234        [Nom, Nom]    [1, 1]               [yoga.n, yogi.n]   \n",
       "235        [Nom, Nom]    [1, 3]               [sloth.n, chi.n]   \n",
       "236        [Nom, Nom]    [1, 2]       [dumbfounded.s, curie.n]   \n",
       "237        [Nom, Nom]    [1, 2]       [dumbfounded.s, curry.n]   \n",
       "238        [Nom, Nom]    [2, 1]            [driveway.n, key.n]   \n",
       "239        [Nom, Nom]    [2, 3]            [driveway.n, key.n]   \n",
       "240        [Nom, Nom]    [2, 1]                  [go.n, key.n]   \n",
       "241        [Nom, Nom]    [2, 3]                  [go.n, key.n]   \n",
       "242      [Verbe, Nom]    [2, 1]                  [go.n, key.n]   \n",
       "243      [Verbe, Nom]    [2, 3]                  [go.n, key.n]   \n",
       "244    [Adverbe, Nom]    [1, 2]           [then.n, chlorine.n]   \n",
       "245  [Adverbe, Verbe]    [1, 1]                [then.n, end.v]   \n",
       "246        [Nom, Nom]    [1, 1]           [bitters.n, khmer.n]   \n",
       "247        [Nom, Nom]    [1, 2]             [august.n, cost.n]   \n",
       "248        [Nom, Nom]    [1, 3]           [august.n, lodger.n]   \n",
       "249        [Nom, Nom]    [1, 1]             [august.n, gust.n]   \n",
       "250        [Nom, Nom]    [1, 1]             [bridge.n, acme.n]   \n",
       "\n",
       "                                               WordNet  \n",
       "200  {'passer': '{'hypernym': 'be.v} ', 'pisé': '{'...  \n",
       "201  {'passer': '{'hypernym': 'be.v} ', 'pisser': '...  \n",
       "202  {'pavot': '{'hypernym': 'dilleniid_dicot_genus...  \n",
       "203  {'pipa': '{'hypernym': 'amphibian_genus.n 'hol...  \n",
       "204  {'pirate': '{'hypernym': 'thief.n 'eng_derivat...  \n",
       "205  {'pita': '{'hypernym': 'flatbread.n 'holo_part...  \n",
       "206  {'placer': '{'hypernym': 'condition.n 'eng_der...  \n",
       "207  {'platane': '{'hypernym': 'wood.n 'holo_portio...  \n",
       "208  {'plat': '{'hypernym': 'nutriment.n 'holo_part...  \n",
       "209  {'plat': '{'hypernym': 'nutriment.n 'holo_part...  \n",
       "210  {'polar': '{'hypernym': 'adventure_story.n 'en...  \n",
       "211  {'racine': '{'hypernym': 'number.n} ', 'ricine...  \n",
       "212  {'radeau': '{'hypernym': 'float.n 'eng_derivat...  \n",
       "213  {'rade': '{'hypernym': 'anchorage.n} ', 'ride'...  \n",
       "214  {'rame': '{'hypernym': 'blade.n 'holo_part': '...  \n",
       "215  {'ra': '{'hypernym': 'metallic_element.n 'holo...  \n",
       "216  {'rate': '{'hypernym': 'bad_temper.n 'eng_deri...  \n",
       "217  {'rat': '{'hypernym': 'worker.n 'eng_derivativ...  \n",
       "218  {'ravage': '{'hypernym': 'termination.n 'eng_d...  \n",
       "219  {'sac': '{'hypernym': 'enlargement.n 'eng_deri...  \n",
       "220  {'sédation': '{'hypernym': 'physical_condition...  \n",
       "221  {'sale': '{'similar_to': 'septic.a 'eng_deriva...  \n",
       "222  {'salle': '{'hypernym': 'opportunity.n} ', 'sc...  \n",
       "223  {'sari': '{'hypernym': 'dress.n} ', 'scierie':...  \n",
       "224  {'sas': '{'hypernym': 'chamber.n} ', 'six': '{...  \n",
       "225  {'tapage': '{'hypernym': 'disorder.n} ', 'typa...  \n",
       "226  {'tapis': '{'hypernym': 'furnishing.n 'eng_der...  \n",
       "227  {'taret': '{'hypernym': 'clam.n 'holo_member':...  \n",
       "228  {'tarse': '{'hypernym': 'skeletal_structure.n ...  \n",
       "229  {'tartane': '{'hypernym': 'fabric.n} ', 'tarti...  \n",
       "230  {'trachée': '{'hypernym': 'tubule.n 'holo_part...  \n",
       "231  {'trac': '{'hypernym': 'fear.n} ', 'trique': '...  \n",
       "232  {'val': '{'hypernym': 'natural_depression.n} '...  \n",
       "233  {'vannerie': '{'hypernym': 'work.n} ', 'vineri...  \n",
       "234  {'yoga': '{'hypernym': 'hinduism.n 'eng_deriva...  \n",
       "235  {'aï': '{'hypernym': 'reluctance.n 'eng_deriva...  \n",
       "236  {'ahuri': '{'similar_to': 'surprised.a} ', 'cu...  \n",
       "237  {'ahuri': '{'similar_to': 'surprised.a} ', 'cu...  \n",
       "238  {'allée': '{'hypernym': 'road.n 'eng_derivativ...  \n",
       "239  {'allée': '{'hypernym': 'road.n 'eng_derivativ...  \n",
       "240  {'aller': '{'hypernym': 'shift.n 'eng_derivati...  \n",
       "241  {'aller': '{'hypernym': 'shift.n 'eng_derivati...  \n",
       "242  {'aller': '{'hypernym': 'shift.n 'eng_derivati...  \n",
       "243  {'aller': '{'hypernym': 'shift.n 'eng_derivati...  \n",
       "244  {'alors': '{'hypernym': 'point.n} ', 'chlore':...  \n",
       "245  {'alors': '{'hypernym': 'point.n} ', 'clore': ...  \n",
       "246  {'amer': '{'hypernym': 'liquor.n} ', 'khmer': ...  \n",
       "247  {'août': '{'hypernym': 'gregorian_calendar_mon...  \n",
       "248  {'août': '{'hypernym': 'gregorian_calendar_mon...  \n",
       "249  {'août': '{'hypernym': 'gregorian_calendar_mon...  \n",
       "250  {'arête': '{'hypernym': 'structure.n 'holo_par...  "
      ]
     },
     "execution_count": 21,
     "metadata": {},
     "output_type": "execute_result"
    }
   ],
   "source": [
    "Panorama0.loc[200:250]"
   ]
  },
  {
   "cell_type": "code",
   "execution_count": 22,
   "metadata": {},
   "outputs": [],
   "source": [
    "Panorama0.to_csv(\"données/La deuxième version/Panorama2.0.csv\",sep=\":\")\n",
    "Panorama0.to_json(\"données/La deuxième version/Panorama2.0.json\")\n",
    "Panorama0.to_html(\"données/La deuxième version/Panorama2.0.html\")"
   ]
  },
  {
   "cell_type": "code",
   "execution_count": 190,
   "metadata": {},
   "outputs": [
    {
     "name": "stdout",
     "output_type": "stream",
     "text": [
      "13118\n",
      "(['aï', 'bis'], ['a', 'b'], ['ai', 'bi'], ['Nom', 'Nom'], ['1', '1'], ['sloth.n', 'encore.n'], {'aï': \"{'hypernym': 'reluctance.n 'eng_derivative': 'faineant.s} \", 'bis': \"{'hypernym': 'performance.n 'eng_derivative': 'encore.v}\"})\n"
     ]
    }
   ],
   "source": [
    "print(len(l))\n",
    "print(l[0])"
   ]
  },
  {
   "cell_type": "code",
   "execution_count": 101,
   "metadata": {
    "scrolled": false
   },
   "outputs": [],
   "source": [
    "with open(\"données/La deuxième version/Panorama2.0.txt\",'w',encoding = \"UTF-8\")as f:\n",
    "    for i in range(len(l)):\n",
    "        f.write(l[i][0][0]+\"|\"+l[i][0][1]+\"|\")\n",
    "        f.write(l[i][1][0]+\"|\"+l[i][1][1]+\"|\")\n",
    "        f.write(l[i][2][0]+\"|\"+l[i][2][1]+\"|\")\n",
    "        f.write(l[i][3][0]+\"|\"+l[i][3][1]+\"|\")\n",
    "        f.write(l[i][4][0]+\"|\"+l[i][4][1]+\"|\")\n",
    "        f.write(l[i][5][0]+\"|\"+l[i][5][1]+\"|\")\n",
    "        a = l[i][6]\n",
    "        for k,v in a.items():\n",
    "            v = v.replace(\":\",\"-\")\n",
    "            f.write(k+\":\"+v)\n",
    "            f.write(\"|\")\n",
    "        f.write(\"\\n\")"
   ]
  },
  {
   "cell_type": "code",
   "execution_count": 95,
   "metadata": {
    "scrolled": true
   },
   "outputs": [
    {
     "data": {
      "text/plain": [
       "{'aï': 'hypernym: reluctance.n eng_derivative: faineant.s ',\n",
       " 'bis': 'hypernym: performance.n eng_derivative: encore.v'}"
      ]
     },
     "execution_count": 95,
     "metadata": {},
     "output_type": "execute_result"
    }
   ],
   "source": [
    "a = l[0][6]\n",
    "a"
   ]
  },
  {
   "cell_type": "markdown",
   "metadata": {},
   "source": [
    "### Voyelles Ouvertes vs Voyelles Fermées"
   ]
  },
  {
   "cell_type": "code",
   "execution_count": 25,
   "metadata": {},
   "outputs": [],
   "source": [
    "def trouver(l1,l2,l):\n",
    "    l3 = []\n",
    "    for i in range(len(l)):\n",
    "        if(((l[i][1][0] in l1)and(l[i][1][1] in l2)) or ((l[i][1][0] in l2) and (l[i][1][1] in l1))):\n",
    "            l3.append(l[i])\n",
    "    return l3"
   ]
  },
  {
   "cell_type": "code",
   "execution_count": 67,
   "metadata": {
    "scrolled": true
   },
   "outputs": [
    {
     "data": {
      "text/plain": [
       "1213"
      ]
     },
     "execution_count": 67,
     "metadata": {},
     "output_type": "execute_result"
    }
   ],
   "source": [
    "Voyelles_Ouvertes = ['a','ɛ','ɔ','œ','ɜ']\n",
    "Voyelles_Fermées = ['e','ø','i','u','y','o']\n",
    "Paradigme_Mil_Mal = trouver(Voyelles_Fermées,Voyelles_Ouvertes,l)\n",
    "len(Paradigme_Mil_Mal)"
   ]
  },
  {
   "cell_type": "code",
   "execution_count": 27,
   "metadata": {
    "scrolled": true
   },
   "outputs": [
    {
     "data": {
      "text/plain": [
       "(['accueil', 'écueil'],\n",
       " ['a', 'e'],\n",
       " ['akœj', 'ekœj'],\n",
       " ['Nom', 'Nom'],\n",
       " ['1', '2'],\n",
       " ['host.n', 'reef.n'],\n",
       " {'accueil': \"{'hypernym': 'organization.n} \",\n",
       "  'écueil': \"{'hypernym': 'ridge.n 'eng_derivative': 'reefy.s}\"})"
      ]
     },
     "execution_count": 27,
     "metadata": {},
     "output_type": "execute_result"
    }
   ],
   "source": [
    "Paradigme_Mil_Mal[0]"
   ]
  },
  {
   "cell_type": "code",
   "execution_count": 28,
   "metadata": {},
   "outputs": [],
   "source": [
    "def créerTxt(filename):\n",
    "    with open(\"données/La deuxième version/{}.txt\".format(filename),'w',encoding = \"UTF-8\") as f:\n",
    "        for i in range(len(Paradigme_Mil_Mal)):\n",
    "            f.write(str(Paradigme_Mil_Mal[i]))\n",
    "            f.write('\\n')"
   ]
  },
  {
   "cell_type": "code",
   "execution_count": 29,
   "metadata": {},
   "outputs": [],
   "source": [
    "def ConstruireHTML(liste,filename):\n",
    "    w = open(\"données/La deuxième version/Pour la soutenance/\"+filename+\".html\", \"w\")\n",
    "    w.write(filename)\n",
    "    w.write(\"<table border= '1'>\")\n",
    "    w.write(\"</td><td>\".join([\"\",\"Mots\",\"Paires_Minimales\",\"Transcrption\",\"POS\",\"Fréquence\",\"Synonyme en anglais\",\"WordNet_Relation\"]))\n",
    "    for ligne in liste:\n",
    "        w.write(\"<tr><td>\")\n",
    "        w.write(\"</td><td>\".join([str(x) for x in ligne]))\n",
    "        w.write(\"</td><tr>\")\n",
    "    w.write(\"</table>\")\n",
    "    w.close()"
   ]
  },
  {
   "cell_type": "code",
   "execution_count": 30,
   "metadata": {},
   "outputs": [],
   "source": [
    "ConstruireHTML(Paradigme_Mil_Mal,\"Paradigme_Mil_Mal\")\n",
    "créerTxt(\"Paradigme_Mil_Mal\")"
   ]
  },
  {
   "cell_type": "markdown",
   "metadata": {},
   "source": [
    "### Consonnes Sonores vs Consonnes Sourdes"
   ]
  },
  {
   "cell_type": "code",
   "execution_count": 69,
   "metadata": {},
   "outputs": [
    {
     "data": {
      "text/plain": [
       "1657"
      ]
     },
     "execution_count": 69,
     "metadata": {},
     "output_type": "execute_result"
    }
   ],
   "source": [
    "Consonnes_Sonores = ['b','d','g','v','z']\n",
    "Consonnes_Sourdes = ['p','t','k','f','s']\n",
    "Paradigme_Maluma_Takete = trouver(Consonnes_Sonores,Consonnes_Sourdes,l)\n",
    "len(Paradigme_Maluma_Takete)"
   ]
  },
  {
   "cell_type": "code",
   "execution_count": 32,
   "metadata": {},
   "outputs": [],
   "source": [
    "ConstruireHTML(Paradigme_Maluma_Takete,\"Consonnes Sonores vs Consonnes Sourdes\")\n",
    "créerTxt(\"Consonnes Sonores vs Consonnes Sourdes\")"
   ]
  },
  {
   "cell_type": "markdown",
   "metadata": {},
   "source": [
    "### Occlusif vs Fricatif"
   ]
  },
  {
   "cell_type": "code",
   "execution_count": 75,
   "metadata": {},
   "outputs": [
    {
     "data": {
      "text/plain": [
       "1503"
      ]
     },
     "execution_count": 75,
     "metadata": {},
     "output_type": "execute_result"
    }
   ],
   "source": [
    "Occlusif = ['p','b','t','d','k','g']\n",
    "Fricatif = ['f','v','s','z']\n",
    "Occlusif_Fricatif = trouver(Occlusif,Fricatif,l)\n",
    "len(Occlusif_Fricatif)"
   ]
  },
  {
   "cell_type": "code",
   "execution_count": 34,
   "metadata": {},
   "outputs": [],
   "source": [
    "ConstruireHTML(L,\"Occlusif vs Fricatif\")\n",
    "créerTxt(\"Occlusif vs Fricatif\")"
   ]
  },
  {
   "cell_type": "markdown",
   "metadata": {},
   "source": [
    "### Voyelles Antérieures vs Voyelles Postérieures"
   ]
  },
  {
   "cell_type": "code",
   "execution_count": 76,
   "metadata": {},
   "outputs": [
    {
     "data": {
      "text/plain": [
       "1255"
      ]
     },
     "execution_count": 76,
     "metadata": {},
     "output_type": "execute_result"
    }
   ],
   "source": [
    "Voyelles_Antérieures = ['a','ɛ','ɔ','œ','ɜ','e','ø','i','u','y','o']\n",
    "Voyelles_Postérieures = ['u','o','ɔ']\n",
    "Voyelles_Antérieures_Voyelles_Postérieures = trouver(Voyelles_Antérieures,Voyelles_Postérieures,l)\n",
    "len(Voyelles_Antérieures_Voyelles_Postérieures)"
   ]
  },
  {
   "cell_type": "code",
   "execution_count": 36,
   "metadata": {},
   "outputs": [],
   "source": [
    "ConstruireHTML(L,\"Voyelles Antérieures vs Voyelles Postérieures\")\n",
    "créerTxt(\"Voyelles Antérieures vs Voyelles Postérieures\")"
   ]
  },
  {
   "cell_type": "code",
   "execution_count": 106,
   "metadata": {},
   "outputs": [
    {
     "data": {
      "text/plain": [
       "(['addition', 'audition'],\n",
       " ['a', 'o'],\n",
       " ['adisjɔ̃', 'odisjɔ̃'],\n",
       " ['Nom', 'Nom'],\n",
       " ['3', '1'],\n",
       " ['addition.n', 'hearing.n'],\n",
       " {'addition': 'hypernym: indefinite_quantity.n eng_derivative: increase.v ',\n",
       "  'audition': 'hypernym: opportunity.n'})"
      ]
     },
     "execution_count": 106,
     "metadata": {},
     "output_type": "execute_result"
    }
   ],
   "source": [
    "Voyelles_Antérieures_Voyelles_Postérieures[0]"
   ]
  },
  {
   "cell_type": "markdown",
   "metadata": {},
   "source": [
    "### Nom"
   ]
  },
  {
   "cell_type": "code",
   "execution_count": 72,
   "metadata": {},
   "outputs": [
    {
     "data": {
      "text/plain": [
       "10576"
      ]
     },
     "execution_count": 72,
     "metadata": {},
     "output_type": "execute_result"
    }
   ],
   "source": [
    "Nom = list(filter(lambda x : x[3]==['Nom', 'Nom'],l))\n",
    "ConstruireHTML(Nom,\"Nom vs Nom\")\n",
    "len(Nom)"
   ]
  },
  {
   "cell_type": "markdown",
   "metadata": {},
   "source": [
    "### Verbe"
   ]
  },
  {
   "cell_type": "code",
   "execution_count": 38,
   "metadata": {},
   "outputs": [
    {
     "data": {
      "text/plain": [
       "762"
      ]
     },
     "execution_count": 38,
     "metadata": {},
     "output_type": "execute_result"
    }
   ],
   "source": [
    "Verbe = list(filter(lambda x : x[3]==['Verbe', 'Verbe'],l))\n",
    "ConstruireHTML(Verbe,\"Verbe vs Verbe\")\n",
    "len(Verbe)"
   ]
  },
  {
   "cell_type": "markdown",
   "metadata": {},
   "source": [
    "### Adjectif "
   ]
  },
  {
   "cell_type": "code",
   "execution_count": 40,
   "metadata": {
    "scrolled": true
   },
   "outputs": [
    {
     "data": {
      "text/plain": [
       "433"
      ]
     },
     "execution_count": 40,
     "metadata": {},
     "output_type": "execute_result"
    }
   ],
   "source": [
    "Adjectif = list(filter(lambda x : 'Adjectif' in x[3],l))\n",
    "len(Adjectif)"
   ]
  },
  {
   "cell_type": "code",
   "execution_count": 50,
   "metadata": {},
   "outputs": [
    {
     "data": {
      "text/plain": [
       "(['apathique', 'hépatique'],\n",
       " ['a', 'e'],\n",
       " ['apatik', 'epatik'],\n",
       " ['Adjectif', 'Adjectif'],\n",
       " ['0', '2'],\n",
       " ['apathetic.s', 'liverwort.n'],\n",
       " {'apathique': \"{'similar_to': 'spiritless.a 'eng_derivative': 'apathy.n} \",\n",
       "  'hépatique': \"{'hypernym': 'bryophyte.n 'holo_member': 'hepaticopsida.n}\"})"
      ]
     },
     "execution_count": 50,
     "metadata": {},
     "output_type": "execute_result"
    }
   ],
   "source": [
    "Adjectif[0]"
   ]
  },
  {
   "cell_type": "markdown",
   "metadata": {},
   "source": [
    "### Adverbe"
   ]
  },
  {
   "cell_type": "code",
   "execution_count": 41,
   "metadata": {},
   "outputs": [],
   "source": [
    "Adverbe = list(filter(lambda x : x[3]==['Adverbe', 'Adverbe'],l))\n",
    "ConstruireHTML(Adverbe,\"Adverbe vs Adverbe\")"
   ]
  },
  {
   "cell_type": "code",
   "execution_count": 42,
   "metadata": {
    "scrolled": true
   },
   "outputs": [
    {
     "data": {
      "text/plain": [
       "48"
      ]
     },
     "execution_count": 42,
     "metadata": {},
     "output_type": "execute_result"
    }
   ],
   "source": [
    "len(Adverbe)"
   ]
  },
  {
   "cell_type": "code",
   "execution_count": 49,
   "metadata": {},
   "outputs": [
    {
     "data": {
      "text/plain": [
       "(['impassiblement', 'impossiblement'],\n",
       " ['a', 'ɔ'],\n",
       " ['ɛ̃pasibləmɑ̃', 'ɛ̃pɔsibləmɑ̃'],\n",
       " ['Adverbe', 'Adverbe'],\n",
       " ['1', '1'],\n",
       " ['', ''],\n",
       " {'impassiblement': \"{'derived': 'impassive.s} \",\n",
       "  'impossiblement': \"{'near_antonym': ' ' 'derived': 'impossible.a}\"})"
      ]
     },
     "execution_count": 49,
     "metadata": {},
     "output_type": "execute_result"
    }
   ],
   "source": [
    "Adverbe[1]"
   ]
  },
  {
   "cell_type": "code",
   "execution_count": 54,
   "metadata": {
    "scrolled": true
   },
   "outputs": [
    {
     "name": "stdout",
     "output_type": "stream",
     "text": [
      "{'aï': \"{'hypernym': 'reluctance.n 'eng_derivative': 'faineant.s} \", 'bis': \"{'hypernym': 'performance.n 'eng_derivative': 'encore.v}\"}\n"
     ]
    }
   ],
   "source": [
    "d = l[0][6]\n",
    "print(d)"
   ]
  },
  {
   "cell_type": "code",
   "execution_count": 57,
   "metadata": {},
   "outputs": [
    {
     "data": {
      "text/plain": [
       "(['aï', 'bis'],\n",
       " ['a', 'b'],\n",
       " ['ai', 'bi'],\n",
       " ['Nom', 'Nom'],\n",
       " ['1', '1'],\n",
       " ['sloth.n', 'encore.n'],\n",
       " {'aï': \"{'hypernym': 'reluctance.n 'eng_derivative': 'faineant.s} \",\n",
       "  'bis': \"{'hypernym': 'performance.n 'eng_derivative': 'encore.v}\"})"
      ]
     },
     "execution_count": 57,
     "metadata": {},
     "output_type": "execute_result"
    }
   ],
   "source": [
    "l[0]"
   ]
  },
  {
   "cell_type": "code",
   "execution_count": 58,
   "metadata": {
    "scrolled": true
   },
   "outputs": [
    {
     "name": "stdout",
     "output_type": "stream",
     "text": [
      "aï\n",
      "'hypernym': 'reluctance.n 'eng_derivative': 'faineant.s \n",
      "bis\n",
      "'hypernym': 'performance.n 'eng_derivative': 'encore.v\n"
     ]
    }
   ],
   "source": [
    "for k,v in d.items():\n",
    "    print(k)\n",
    "    v = v.replace('{','')\n",
    "    v = v.replace('}','')\n",
    "    print(v)"
   ]
  },
  {
   "cell_type": "code",
   "execution_count": 64,
   "metadata": {},
   "outputs": [
    {
     "name": "stdout",
     "output_type": "stream",
     "text": [
      "(['aï', 'bis'], ['a', 'b'], ['ai', 'bi'], ['Nom', 'Nom'], ['1', '1'], ['sloth.n', 'encore.n'], {'aï': 'hypernym: reluctance.n eng_derivative: faineant.s ', 'bis': 'hypernym: performance.n eng_derivative: encore.v'})\n",
      "(['allée', 'blé'], ['a', 'b'], ['ale', 'ble'], ['Nom', 'Nom'], ['2', '2'], ['driveway.n', 'grain.n'], {'allée': 'hypernym: road.n eng_derivative: drive.v.12 ', 'blé': 'hypernym: metric_weight_unit.n holo_part: decigram.n'})\n"
     ]
    }
   ],
   "source": [
    "for x in l:\n",
    "    for k,v in x[6].items():\n",
    "        v = v.replace('{','')\n",
    "        v = v.replace('}','')\n",
    "        v = v.replace(\"'\",\"\")\n",
    "        v = v.replace(')','')\n",
    "        x[6][k] = v\n",
    "print(l[0])\n",
    "print(l[1])"
   ]
  },
  {
   "cell_type": "code",
   "execution_count": 107,
   "metadata": {},
   "outputs": [],
   "source": [
    "def ConstruireTxt(l,filename):\n",
    "    with open(\"données/La deuxième version/\"+filename+\".txt\",'w',encoding = \"UTF-8\")as f:\n",
    "        for x in l:\n",
    "            f.write(str(x[0])+\"|\"+str(x[1])+\"|\"+str(x[2])+\"|\"+str(x[3])+\"|\"+str(x[4])+\"|\"+str(x[5])+\"|\"+str(x[6]))\n",
    "            f.write(\"\\n\")\n",
    "def ConstruireJpa(l,filename):\n",
    "    with open(\"données/La deuxième version/\"+filename+\"JPA.txt\",'w',encoding = \"UTF-8\")as f:\n",
    "        for i in range(len(l)):\n",
    "            f.write(l[i][0][0]+\"|\"+l[i][0][1]+\"|\")\n",
    "            f.write(l[i][1][0]+\"|\"+l[i][1][1]+\"|\")\n",
    "            f.write(l[i][2][0]+\"|\"+l[i][2][1]+\"|\")\n",
    "            f.write(l[i][3][0]+\"|\"+l[i][3][1]+\"|\")\n",
    "            f.write(l[i][4][0]+\"|\"+l[i][4][1]+\"|\")\n",
    "            f.write(l[i][5][0]+\"|\"+l[i][5][1]+\"|\")\n",
    "            a = l[i][6]\n",
    "            for k,v in a.items():\n",
    "                v = v.replace(\":\",\"-\")\n",
    "                f.write(k+\":\"+v)\n",
    "                f.write(\"|\")\n",
    "                f.write(\"\\n\")\n",
    "            \n",
    "def ConstruireHTML(liste,filename):\n",
    "    w = open(\"données/La deuxième version/Pour la soutenance/\"+filename+\".html\", \"w\")\n",
    "    w.write(filename)\n",
    "    w.write(\"<table border= '1'>\")\n",
    "    w.write(\"</td><td>\".join([\"\",\"Mots\",\"Paires_Minimales\",\"Transcrption\",\"POS\",\"Fréquence\",\"Synonyme en anglais\",\"WordNet_Relation\"]))\n",
    "    for ligne in liste:\n",
    "        w.write(\"<tr><td>\")\n",
    "        w.write(\"</td><td>\".join([str(x) for x in ligne]))\n",
    "        w.write(\"</td><tr>\")\n",
    "    w.write(\"</table>\")\n",
    "    w.close()"
   ]
  },
  {
   "cell_type": "code",
   "execution_count": 108,
   "metadata": {
    "scrolled": true
   },
   "outputs": [],
   "source": [
    "ConstruireTxt(Paradigme_Mil_Mal,\"Voyelles_Ouvertes_vs_Voyelles_Fermées\")\n",
    "ConstruireHTML(Paradigme_Mil_Mal,\"Voyelles_Ouvertes_vs_Voyelles_Fermées\")\n",
    "ConstruireJpa(Paradigme_Mil_Mal,\"Voyelles_Ouvertes_vs_Voyelles_Fermées\")\n",
    "ConstruireTxt(Paradigme_Maluma_Takete,\"Consonnes Sonores vs Consonnes Sourdes\")\n",
    "ConstruireJpa(Paradigme_Maluma_Takete,\"Consonnes Sonores vs Consonnes Sourdes\")\n",
    "ConstruireHTML(Paradigme_Maluma_Takete,\"Consonnes Sonores vs Consonnes Sourdes\")\n",
    "ConstruireTxt(Occlusif_Fricatif,\"Occlusif vs Fricatif\")\n",
    "ConstruireJpa(Occlusif_Fricatif,\"Occlusif vs Fricatif\")\n",
    "ConstruireHTML(Occlusif_Fricatif,\"Occlusif vs Fricatif\")\n",
    "ConstruireTxt(Voyelles_Antérieures_Voyelles_Postérieures,\"Voyelles Antérieures vs Voyelles Postérieures\")\n",
    "ConstruireJpa(Voyelles_Antérieures_Voyelles_Postérieures,\"Voyelles Antérieures vs Voyelles Postérieures\")\n",
    "ConstruireHTML(Voyelles_Antérieures_Voyelles_Postérieures,\"Voyelles Antérieures vs Voyelles Postérieures\")\n",
    "ConstruireTxt(Nom,\"Nom vs Nom\")\n",
    "ConstruireJpa(Nom,\"Nom vs Nom\")\n",
    "ConstruireHTML(Nom,\"Nom vs Nom\")\n",
    "ConstruireTxt(Verbe,\"Verbe vs Verbe\")\n",
    "ConstruireJpa(Verbe,\"Verbe vs Verbe\")\n",
    "ConstruireHTML(Verbe,\"Verbe vs Verbe\")\n",
    "ConstruireTxt(Adjectif,\"Adj vs Adj\")\n",
    "ConstruireJpa(Adjectif,\"Adj vs Adj\")\n",
    "ConstruireHTML(Adjectif,\"Adj vs Adj\")\n",
    "ConstruireTxt(Adverbe,\"Adv vs Adv\")\n",
    "ConstruireJpa(Adverbe,\"Adv vs Adv\")\n",
    "ConstruireHTML(Adverbe,\"Adv vs Adv\")"
   ]
  },
  {
   "cell_type": "code",
   "execution_count": null,
   "metadata": {},
   "outputs": [],
   "source": []
  }
 ],
 "metadata": {
  "kernelspec": {
   "display_name": "Python 3",
   "language": "python",
   "name": "python3"
  },
  "language_info": {
   "codemirror_mode": {
    "name": "ipython",
    "version": 3
   },
   "file_extension": ".py",
   "mimetype": "text/x-python",
   "name": "python",
   "nbconvert_exporter": "python",
   "pygments_lexer": "ipython3",
   "version": "3.7.3"
  }
 },
 "nbformat": 4,
 "nbformat_minor": 2
}
